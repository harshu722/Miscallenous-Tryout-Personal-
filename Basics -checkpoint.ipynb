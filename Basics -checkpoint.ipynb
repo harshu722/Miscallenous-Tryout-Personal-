{
 "cells": [
  {
   "cell_type": "code",
   "execution_count": 2,
   "id": "717518d5",
   "metadata": {},
   "outputs": [
    {
     "name": "stdout",
     "output_type": "stream",
     "text": [
      "10  and  7\n",
      "False\n"
     ]
    }
   ],
   "source": [
    "var1=10\n",
    "var3=7\n",
    "print(var1,\" and \", var3)\n",
    "var1==var3\n",
    "\n",
    "print(var1<var3)"
   ]
  },
  {
   "cell_type": "code",
   "execution_count": 4,
   "id": "1c506a6b",
   "metadata": {},
   "outputs": [
    {
     "data": {
      "text/plain": [
       "False"
      ]
     },
     "execution_count": 4,
     "metadata": {},
     "output_type": "execute_result"
    }
   ],
   "source": [
    "var1==var3"
   ]
  },
  {
   "cell_type": "code",
   "execution_count": 2,
   "id": "950a69dd",
   "metadata": {},
   "outputs": [],
   "source": [
    "x=10\n",
    "def f1():\n",
    "    #local variable\n",
    "    y=5\n",
    "    print(y)\n",
    "    \n",
    "    print(y)\n",
    "    f1()\n",
    "    "
   ]
  },
  {
   "cell_type": "code",
   "execution_count": 5,
   "id": "c17081b5",
   "metadata": {},
   "outputs": [
    {
     "data": {
      "text/plain": [
       "10"
      ]
     },
     "execution_count": 5,
     "metadata": {},
     "output_type": "execute_result"
    }
   ],
   "source": [
    "var1"
   ]
  },
  {
   "cell_type": "code",
   "execution_count": null,
   "id": "4b758bfd",
   "metadata": {},
   "outputs": [],
   "source": []
  },
  {
   "cell_type": "code",
   "execution_count": 6,
   "id": "79f7862c",
   "metadata": {},
   "outputs": [
    {
     "data": {
      "text/plain": [
       "False"
      ]
     },
     "execution_count": 6,
     "metadata": {},
     "output_type": "execute_result"
    }
   ],
   "source": [
    "3 == 4"
   ]
  },
  {
   "cell_type": "code",
   "execution_count": 7,
   "id": "fe588042",
   "metadata": {},
   "outputs": [
    {
     "data": {
      "text/plain": [
       "True"
      ]
     },
     "execution_count": 7,
     "metadata": {},
     "output_type": "execute_result"
    }
   ],
   "source": [
    "3 != 4"
   ]
  },
  {
   "cell_type": "code",
   "execution_count": 8,
   "id": "3399c38c",
   "metadata": {},
   "outputs": [
    {
     "name": "stdout",
     "output_type": "stream",
     "text": [
      "seema is bold and she can vote\n"
     ]
    }
   ],
   "source": [
    "seema=20\n",
    "Raj=15\n",
    "if(seema>Raj and seema >18):\n",
    "    print(\"seema is bold and she can vote\")\n",
    "else:\n",
    "    print(\"Seema is not mature enough to vote\")"
   ]
  },
  {
   "cell_type": "code",
   "execution_count": 9,
   "id": "052e95a9",
   "metadata": {},
   "outputs": [
    {
     "data": {
      "text/plain": [
       "25"
      ]
     },
     "execution_count": 9,
     "metadata": {},
     "output_type": "execute_result"
    }
   ],
   "source": [
    "5**2"
   ]
  },
  {
   "cell_type": "code",
   "execution_count": 10,
   "id": "04aed7c8",
   "metadata": {},
   "outputs": [
    {
     "data": {
      "text/plain": [
       "125"
      ]
     },
     "execution_count": 10,
     "metadata": {},
     "output_type": "execute_result"
    }
   ],
   "source": [
    "5**3\n"
   ]
  },
  {
   "cell_type": "code",
   "execution_count": 11,
   "id": "ce3305a8",
   "metadata": {},
   "outputs": [
    {
     "data": {
      "text/plain": [
       "25"
      ]
     },
     "execution_count": 11,
     "metadata": {},
     "output_type": "execute_result"
    }
   ],
   "source": [
    "pow(5,2)"
   ]
  },
  {
   "cell_type": "code",
   "execution_count": 12,
   "id": "4db8e71d",
   "metadata": {},
   "outputs": [
    {
     "data": {
      "text/plain": [
       "6"
      ]
     },
     "execution_count": 12,
     "metadata": {},
     "output_type": "execute_result"
    }
   ],
   "source": [
    "import math\n",
    "math.floor(12/2)"
   ]
  },
  {
   "cell_type": "code",
   "execution_count": 14,
   "id": "a137ef68",
   "metadata": {},
   "outputs": [
    {
     "data": {
      "text/plain": [
       "2"
      ]
     },
     "execution_count": 14,
     "metadata": {},
     "output_type": "execute_result"
    }
   ],
   "source": [
    "import math\n",
    "math.floor(12/5)"
   ]
  },
  {
   "cell_type": "code",
   "execution_count": 16,
   "id": "5f21bb48",
   "metadata": {},
   "outputs": [],
   "source": [
    "## math --->floor,ciel,pow etc"
   ]
  },
  {
   "cell_type": "code",
   "execution_count": 17,
   "id": "560091f2",
   "metadata": {},
   "outputs": [
    {
     "name": "stdout",
     "output_type": "stream",
     "text": [
      "Enter somethingmy name is saharsh \n",
      "my name is saharsh \n"
     ]
    }
   ],
   "source": [
    "x=input(\"Enter something\")\n",
    "print(x)"
   ]
  },
  {
   "cell_type": "code",
   "execution_count": 18,
   "id": "585cc5ad",
   "metadata": {},
   "outputs": [
    {
     "data": {
      "text/plain": [
       "module"
      ]
     },
     "execution_count": 18,
     "metadata": {},
     "output_type": "execute_result"
    }
   ],
   "source": [
    "import pandas\n",
    "type(pandas.DataFrame())\n",
    "\n",
    "import abc\n",
    "type(abc)"
   ]
  },
  {
   "cell_type": "code",
   "execution_count": 19,
   "id": "5bcd2985",
   "metadata": {},
   "outputs": [
    {
     "name": "stdout",
     "output_type": "stream",
     "text": [
      "No idea\n"
     ]
    }
   ],
   "source": [
    "seema=23\n",
    "raj=15\n",
    "if (seema<raj):\n",
    "    print(\"They are not of same age\")\n",
    "else:\n",
    "    print(\"No idea\")"
   ]
  },
  {
   "cell_type": "markdown",
   "id": "fd8c63a7",
   "metadata": {},
   "source": [
    "## bitwise operator is basically used to do operations on bits .in base level its understands 0 and 1.Operations that are done in bits .Whatever we write its converts to machine level format which are in binary numbers"
   ]
  },
  {
   "cell_type": "markdown",
   "id": "5d53292f",
   "metadata": {},
   "source": [
    "## machine only understands 0 and 1 . each decimal numbers there are number of  formats "
   ]
  },
  {
   "cell_type": "code",
   "execution_count": 20,
   "id": "2ca4ee19",
   "metadata": {},
   "outputs": [
    {
     "name": "stdout",
     "output_type": "stream",
     "text": [
      "1 10 11 100 101 "
     ]
    }
   ],
   "source": [
    "# recursive function\n",
    "def Print_Binary_Values(num):\n",
    "    # base condition\n",
    "    if(num > 1):\n",
    "        Print_Binary_Values(num // 2)\n",
    "    print(num % 2, end=\"\")\n",
    "  \n",
    "  \n",
    "# driver code\n",
    "if __name__ == \"__main__\":\n",
    "    N = 5\n",
    "  \n",
    "    # looping N times\n",
    "    for i in range(1, N+1):\n",
    "        Print_Binary_Values(i)\n",
    "        print(end=\" \")\n"
   ]
  },
  {
   "cell_type": "code",
   "execution_count": 21,
   "id": "cc630c62",
   "metadata": {},
   "outputs": [
    {
     "name": "stdout",
     "output_type": "stream",
     "text": [
      "['prasoon', 'Ashu', 'Atul', 43, 'Ashu']\n"
     ]
    }
   ],
   "source": [
    "var1= [\"prasoon\", \"Ashu\",\"Atul\",43,\"Ashu\"]\n",
    "var1[0:3] # Strting value:Ending value-1\"\n",
    "\n",
    "list1=[]\n",
    "print(var1)"
   ]
  },
  {
   "cell_type": "code",
   "execution_count": 22,
   "id": "a33793b3",
   "metadata": {},
   "outputs": [],
   "source": [
    "#set\n",
    "var2={'prasoon',\"ashu\",\"Dilip\",\"Ashu\"}\n",
    "var2.add('ferguson')"
   ]
  },
  {
   "cell_type": "code",
   "execution_count": 23,
   "id": "c171a92c",
   "metadata": {},
   "outputs": [
    {
     "data": {
      "text/plain": [
       "{'Ashu', 'Dilip', 'ashu', 'ferguson', 'prasoon'}"
      ]
     },
     "execution_count": 23,
     "metadata": {},
     "output_type": "execute_result"
    }
   ],
   "source": [
    "var2"
   ]
  },
  {
   "cell_type": "code",
   "execution_count": 24,
   "id": "06cf34a4",
   "metadata": {},
   "outputs": [
    {
     "name": "stdout",
     "output_type": "stream",
     "text": [
      "True\n"
     ]
    }
   ],
   "source": [
    "print('Ashu' in var2)"
   ]
  },
  {
   "cell_type": "code",
   "execution_count": 25,
   "id": "c6a11b8d",
   "metadata": {},
   "outputs": [
    {
     "data": {
      "text/plain": [
       "dict"
      ]
     },
     "execution_count": 25,
     "metadata": {},
     "output_type": "execute_result"
    }
   ],
   "source": [
    "#Dictionary\n",
    "\n",
    "var3= {1: 'edureka' ,2: 'Infosys' ,3: 'suresh'}\n",
    "var4=['edureka','Infosys']\n",
    "type(var3)"
   ]
  },
  {
   "cell_type": "code",
   "execution_count": 3,
   "id": "0b88d524",
   "metadata": {},
   "outputs": [],
   "source": [
    "var3= {1: 'edureka',2: 'Infosys',3: 'suresh'}\n",
    "var4=[]"
   ]
  },
  {
   "cell_type": "code",
   "execution_count": 5,
   "id": "f401875a",
   "metadata": {},
   "outputs": [],
   "source": [
    "#Global variable\n",
    "Employee_name=\"Yash\"\n",
    "def Address():\n",
    "    Pin:int(input(\"Type pin no\"))\n",
    "    state=[]\n",
    "    x=input(\"Write down the state name\")\n",
    "    state.append(x)\n",
    "    print(\"Record inserted\")\n",
    "    print(\"details are\",Employee_name,\"is from\",state[0],\"and pin is\",Pin)\n",
    "    \n",
    "    if (Employee_name == \"yash\"):\n",
    "        Address()"
   ]
  },
  {
   "cell_type": "code",
   "execution_count": 13,
   "id": "e180d0f8",
   "metadata": {},
   "outputs": [],
   "source": [
    "check=3\n",
    "name=[]\n",
    "\n",
    "def add(a):\n",
    "  name.append(n)  "
   ]
  },
  {
   "cell_type": "code",
   "execution_count": 11,
   "id": "4926f52c",
   "metadata": {},
   "outputs": [
    {
     "name": "stdout",
     "output_type": "stream",
     "text": [
      "Enter namejay\n"
     ]
    },
    {
     "ename": "NameError",
     "evalue": "name 'name' is not defined",
     "output_type": "error",
     "traceback": [
      "\u001b[1;31m---------------------------------------------------------------------------\u001b[0m",
      "\u001b[1;31mNameError\u001b[0m                                 Traceback (most recent call last)",
      "\u001b[1;32m~\\AppData\\Local\\Temp\\ipykernel_3892\\2511964386.py\u001b[0m in \u001b[0;36m<module>\u001b[1;34m\u001b[0m\n\u001b[0;32m      1\u001b[0m \u001b[0mn\u001b[0m\u001b[1;33m=\u001b[0m\u001b[0minput\u001b[0m\u001b[1;33m(\u001b[0m\u001b[1;34m\"Enter name\"\u001b[0m\u001b[1;33m)\u001b[0m\u001b[1;33m\u001b[0m\u001b[1;33m\u001b[0m\u001b[0m\n\u001b[1;32m----> 2\u001b[1;33m \u001b[1;32mif\u001b[0m\u001b[1;33m(\u001b[0m\u001b[0mlen\u001b[0m\u001b[1;33m(\u001b[0m\u001b[0mname\u001b[0m\u001b[1;33m)\u001b[0m\u001b[1;33m<\u001b[0m\u001b[1;36m2\u001b[0m\u001b[1;33m)\u001b[0m\u001b[1;33m:\u001b[0m\u001b[1;33m\u001b[0m\u001b[1;33m\u001b[0m\u001b[0m\n\u001b[0m\u001b[0;32m      3\u001b[0m    \u001b[0mcheck\u001b[0m \u001b[1;33m=\u001b[0m \u001b[1;36m3\u001b[0m\u001b[1;33m\u001b[0m\u001b[1;33m\u001b[0m\u001b[0m\n\u001b[0;32m      4\u001b[0m \u001b[1;32melse\u001b[0m\u001b[1;33m:\u001b[0m\u001b[1;33m\u001b[0m\u001b[1;33m\u001b[0m\u001b[0m\n\u001b[0;32m      5\u001b[0m    \u001b[0mcheck\u001b[0m \u001b[1;33m=\u001b[0m \u001b[1;36m1\u001b[0m\u001b[1;33m\u001b[0m\u001b[1;33m\u001b[0m\u001b[0m\n",
      "\u001b[1;31mNameError\u001b[0m: name 'name' is not defined"
     ]
    }
   ],
   "source": [
    "n=input(\"Enter name\")\n",
    "if(len(name)<2):\n",
    "   check = 3\n",
    "else:\n",
    "   check = 1\n",
    "\n",
    "if(check==3):\n",
    "   add(n)\n",
    "else:\n",
    "   print(\"storage Full for the list\")"
   ]
  },
  {
   "cell_type": "code",
   "execution_count": 14,
   "id": "9f4931dd",
   "metadata": {},
   "outputs": [
    {
     "name": "stdout",
     "output_type": "stream",
     "text": [
      "<class 'list'>\n"
     ]
    }
   ],
   "source": [
    "A = []\n",
    "B={'bmw'}\n",
    "c={'key':'value'}\n",
    "print(type(A))"
   ]
  },
  {
   "cell_type": "code",
   "execution_count": 15,
   "id": "b3876def",
   "metadata": {},
   "outputs": [
    {
     "data": {
      "text/plain": [
       "set"
      ]
     },
     "execution_count": 15,
     "metadata": {},
     "output_type": "execute_result"
    }
   ],
   "source": [
    "type(B)"
   ]
  },
  {
   "cell_type": "code",
   "execution_count": 16,
   "id": "fdb492ec",
   "metadata": {},
   "outputs": [
    {
     "data": {
      "text/plain": [
       "dict"
      ]
     },
     "execution_count": 16,
     "metadata": {},
     "output_type": "execute_result"
    }
   ],
   "source": [
    "type(c)"
   ]
  },
  {
   "cell_type": "code",
   "execution_count": 22,
   "id": "602930ba",
   "metadata": {},
   "outputs": [
    {
     "name": "stdout",
     "output_type": "stream",
     "text": [
      "{'name': 'Hamid', 'Age': 25, 'Blood_gr': 'o+'}\n"
     ]
    }
   ],
   "source": [
    "A = ['kiwi', 'Mango', 'Guava']\n",
    "B = {'BMW','honda'}\n",
    "C = {'name':'Hamid','Age':25,'Blood_gr':\"o+\"}\n",
    "C2={'name':'Hamid','Age':20,'Blood_gr':\"A+\"}\n",
    "c.update(C2)\n",
    "print(C)"
   ]
  },
  {
   "cell_type": "code",
   "execution_count": 21,
   "id": "e21016a8",
   "metadata": {},
   "outputs": [
    {
     "data": {
      "text/plain": [
       "'Mango'"
      ]
     },
     "execution_count": 21,
     "metadata": {},
     "output_type": "execute_result"
    }
   ],
   "source": [
    "A[1]"
   ]
  },
  {
   "cell_type": "code",
   "execution_count": 19,
   "id": "72596452",
   "metadata": {},
   "outputs": [
    {
     "data": {
      "text/plain": [
       "'Hamid'"
      ]
     },
     "execution_count": 19,
     "metadata": {},
     "output_type": "execute_result"
    }
   ],
   "source": [
    "C.get('name')"
   ]
  },
  {
   "cell_type": "code",
   "execution_count": 23,
   "id": "b16f7b3b",
   "metadata": {},
   "outputs": [
    {
     "name": "stdout",
     "output_type": "stream",
     "text": [
      "{'honda', 'BMW'}\n"
     ]
    }
   ],
   "source": [
    "print(B)"
   ]
  },
  {
   "cell_type": "code",
   "execution_count": 24,
   "id": "ef6349a6",
   "metadata": {},
   "outputs": [
    {
     "name": "stdout",
     "output_type": "stream",
     "text": [
      "{'honda', 'BMW'}\n",
      "True\n"
     ]
    }
   ],
   "source": [
    "print(B)\n",
    "print('BMW' in B)"
   ]
  },
  {
   "cell_type": "code",
   "execution_count": 26,
   "id": "c52e6f70",
   "metadata": {},
   "outputs": [
    {
     "name": "stdout",
     "output_type": "stream",
     "text": [
      "honda\n",
      "BMW\n"
     ]
    }
   ],
   "source": [
    "for x in B:\n",
    "    print(x)"
   ]
  },
  {
   "cell_type": "code",
   "execution_count": 27,
   "id": "4bd50c62",
   "metadata": {},
   "outputs": [],
   "source": [
    "a = 2 #10\n",
    "b = 3 #11"
   ]
  },
  {
   "cell_type": "code",
   "execution_count": 28,
   "id": "16c6afb5",
   "metadata": {},
   "outputs": [
    {
     "data": {
      "text/plain": [
       "10"
      ]
     },
     "execution_count": 28,
     "metadata": {},
     "output_type": "execute_result"
    }
   ],
   "source": [
    "5 << 1"
   ]
  },
  {
   "cell_type": "code",
   "execution_count": 32,
   "id": "39f74513",
   "metadata": {},
   "outputs": [
    {
     "data": {
      "text/plain": [
       "8"
      ]
     },
     "execution_count": 32,
     "metadata": {},
     "output_type": "execute_result"
    }
   ],
   "source": [
    "2 << 2\n",
    " #00000010 --> 00001000"
   ]
  },
  {
   "cell_type": "code",
   "execution_count": 33,
   "id": "9bedfced",
   "metadata": {},
   "outputs": [
    {
     "data": {
      "text/plain": [
       "28"
      ]
     },
     "execution_count": 33,
     "metadata": {},
     "output_type": "execute_result"
    }
   ],
   "source": [
    "# 7* 4= 28\n",
    "7 <<2"
   ]
  },
  {
   "cell_type": "code",
   "execution_count": null,
   "id": "d035f865",
   "metadata": {},
   "outputs": [],
   "source": []
  }
 ],
 "metadata": {
  "kernelspec": {
   "display_name": "Python 3 (ipykernel)",
   "language": "python",
   "name": "python3"
  },
  "language_info": {
   "codemirror_mode": {
    "name": "ipython",
    "version": 3
   },
   "file_extension": ".py",
   "mimetype": "text/x-python",
   "name": "python",
   "nbconvert_exporter": "python",
   "pygments_lexer": "ipython3",
   "version": "3.9.13"
  }
 },
 "nbformat": 4,
 "nbformat_minor": 5
}
